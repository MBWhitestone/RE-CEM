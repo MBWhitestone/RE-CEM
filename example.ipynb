{
 "cells": [
  {
   "cell_type": "code",
   "execution_count": 2,
   "metadata": {},
   "outputs": [],
   "source": [
    "## (C) 2020 UvA FACT AI\n",
    "import cem\n",
    "mnist = cem.Main(type='MNIST')\n",
    "fmnist = cem.Main(type='FMNIST')\n",
    "\n",
    "# mnist.model_summary()\n",
    "# fmnist.model_summary()"
   ]
  },
  {
   "cell_type": "code",
   "execution_count": 9,
   "metadata": {},
   "outputs": [
    {
     "name": "stdout",
     "output_type": "stream",
     "text": [
      "Image:12, infer label:9\n",
      "\n",
      "        [INFO]\n",
      "        id:          12                           \n",
      "        mode:        PP                         \n",
      "        time (s):    61.5                              \n",
      "        kappa:       10                        \n",
      "        gamma:       0                        \n",
      "        Original:    9 [-49.3, -65.7, -61.8, -47.4, -37.1, -36.4, -88.4, -46.8, -46.9, \u001b[92m 37.0\u001b[0m]             \n",
      "        Delta:       9 [ -7.5,  -8.3,  -8.5,  -6.1,  -4.7,  -5.2, -15.0,  -8.3,  -5.9, \u001b[92m  5.8\u001b[0m] \n",
      "        Adversarial: 9 [-35.8, -42.3, -39.0, -32.6, -20.6, -23.2, -57.7, -28.1, -29.5, \u001b[92m 22.7\u001b[0m]     \n",
      "\n",
      "Image:12, infer label:9\n",
      "\n",
      "        [INFO]\n",
      "        id:          12                           \n",
      "        mode:        PP                         \n",
      "        time (s):    83.9                              \n",
      "        kappa:       10                        \n",
      "        gamma:       100                        \n",
      "        Original:    9 [-49.3, -65.7, -61.8, -47.4, -37.1, -36.4, -88.4, -46.8, -46.9, \u001b[92m 37.0\u001b[0m]             \n",
      "        Delta:       9 [-21.0, -23.4, -19.3, -15.4,  -4.7, -11.5, -33.2, -18.0, -17.1, \u001b[92m 10.1\u001b[0m] \n",
      "        Adversarial: 9 [-25.7, -27.7, -24.7, -20.1, -14.9, -19.9, -38.0,  -8.8, -23.0, \u001b[92m  8.1\u001b[0m]     \n",
      "\n",
      "Image:12, infer label:9\n",
      "\n",
      "        [INFO]\n",
      "        id:          12                           \n",
      "        mode:        PN                         \n",
      "        time (s):    59.5                              \n",
      "        kappa:       10                        \n",
      "        gamma:       0                        \n",
      "        Original:    9 [-49.3, -65.7, -61.8, -47.4, -37.1, -36.4, -88.4, -46.8, -46.9, \u001b[92m 37.0\u001b[0m]             \n",
      "        Delta:       2 [ -4.4,  -1.6, \u001b[92m  1.5\u001b[0m,  -2.8,  -1.8,  -4.5,  -2.6,  -3.3,  -0.8,  -5.0] \n",
      "        Adversarial: 4 [-38.5, -24.5, -18.4, -24.9, \u001b[92m  8.3\u001b[0m, -24.4, -34.8, -13.3, -32.2,  -2.1]     \n",
      "\n",
      "Image:12, infer label:9\n",
      "\n",
      "        [INFO]\n",
      "        id:          12                           \n",
      "        mode:        PN                         \n",
      "        time (s):    86.6                              \n",
      "        kappa:       10                        \n",
      "        gamma:       100                        \n",
      "        Original:    9 [-49.3, -65.7, -61.8, -47.4, -37.1, -36.4, -88.4, -46.8, -46.9, \u001b[92m 37.0\u001b[0m]             \n",
      "        Delta:       4 [ -4.2,  -1.3,  -0.8,  -3.5, \u001b[92m  1.2\u001b[0m,  -3.5,  -3.2,  -1.9,  -1.8,  -2.7] \n",
      "        Adversarial: 4 [-45.1, -26.3, -18.5, -29.9, \u001b[92m 10.9\u001b[0m, -26.2, -39.0, -18.2, -33.9,  0.0]     \n",
      "\n"
     ]
    },
    {
     "data": {
      "image/png": "[encoded data removed]",
      "text/plain": [
       "<Figure size 1332x756 with 5 Axes>"
      ]
     },
     "metadata": {
      "needs_background": "light"
     },
     "output_type": "display_data"
    }
   ],
   "source": [
    "mnist.show_array(12, max_iter=1000)"
   ]
  },
  {
   "cell_type": "code",
   "execution_count": 10,
   "metadata": {},
   "outputs": [
    {
     "name": "stdout",
     "output_type": "stream",
     "text": [
      "Image:12, infer label:5\n",
      "\n",
      "        [INFO]\n",
      "        id:          12                           \n",
      "        mode:        PP                         \n",
      "        time (s):    60.6                              \n",
      "        kappa:       10                        \n",
      "        gamma:       0                        \n",
      "        Original:    5 [-44.9, -56.3, -22.2, -39.7, -42.2, \u001b[92m 18.9\u001b[0m, -41.8,   7.9, -46.9, -13.3]             \n",
      "        Delta:       5 [-11.6, -47.8, -23.5, -39.3, -38.5, \u001b[92m  2.2\u001b[0m, -46.1, -41.8, -26.9, -21.0] \n",
      "        Adversarial: 5 [-61.1, -63.5, -26.8, -40.8, -52.7, \u001b[92m 25.7\u001b[0m, -49.6,  14.1, -51.5, -23.8]     \n",
      "\n",
      "Image:12, infer label:5\n",
      "\n",
      "        [INFO]\n",
      "        id:          12                           \n",
      "        mode:        PP                         \n",
      "        time (s):    84.8                              \n",
      "        kappa:       10                        \n",
      "        gamma:       100                        \n",
      "        Original:    5 [-44.9, -56.3, -22.2, -39.7, -42.2, \u001b[92m 18.9\u001b[0m, -41.8,   7.9, -46.9, -13.3]             \n",
      "        Delta:       5 [-33.9, -76.4, -20.4, -69.6, -50.7, \u001b[92m -2.9\u001b[0m, -37.5, -21.0, -39.2, -25.2] \n",
      "        Adversarial: 5 [-50.2, -73.2, -38.9, -46.7, -69.6, \u001b[92m 43.1\u001b[0m, -54.8, -26.4, -52.2, -17.6]     \n",
      "\n",
      "Image:12, infer label:5\n",
      "\n",
      "        [INFO]\n",
      "        id:          12                           \n",
      "        mode:        PN                         \n",
      "        time (s):    55.7                              \n",
      "        kappa:       10                        \n",
      "        gamma:       0                        \n",
      "        Original:    5 [-44.9, -56.3, -22.2, -39.7, -42.2, \u001b[92m 18.9\u001b[0m, -41.8,   7.9, -46.9, -13.3]             \n",
      "        Delta:       8 [ -8.1, -20.0, -23.0, -17.1, -15.0,  -9.5, -29.3, -27.2, \u001b[92m 10.9\u001b[0m,  -8.8] \n",
      "        Adversarial: 7 [-50.2, -51.9, -22.7, -35.6, -45.4,   7.4, -44.8, \u001b[92m 18.2\u001b[0m, -38.7, -17.1]     \n",
      "\n",
      "Image:12, infer label:5\n",
      "\n",
      "        [INFO]\n",
      "        id:          12                           \n",
      "        mode:        PN                         \n",
      "        time (s):    74.0                              \n",
      "        kappa:       10                        \n",
      "        gamma:       100                        \n",
      "        Original:    5 [-44.9, -56.3, -22.2, -39.7, -42.2, \u001b[92m 18.9\u001b[0m, -41.8,   7.9, -46.9, -13.3]             \n",
      "        Delta:       8 [-10.1, -15.5, -18.7, -12.9, -12.1, -10.5, -26.1, -26.7, \u001b[92m 10.5\u001b[0m,  -7.9] \n",
      "        Adversarial: 7 [-52.9, -55.2, -24.6, -37.6, -47.9,   9.2, -47.8, \u001b[92m 19.2\u001b[0m, -41.3, -19.1]     \n",
      "\n"
     ]
    },
    {
     "data": {
      "image/png": "[encoded data removed]",
      "text/plain": [
       "<Figure size 1332x756 with 5 Axes>"
      ]
     },
     "metadata": {
      "needs_background": "light"
     },
     "output_type": "display_data"
    }
   ],
   "source": [
    "fmnist.show_array(12, max_iter=1000)"
   ]
  }
 ],
 "metadata": {
  "kernelspec": {
   "display_name": "Python 3",
   "language": "python",
   "name": "python3"
  },
  "language_info": {
   "codemirror_mode": {
    "name": "ipython",
    "version": 3
   },
   "file_extension": ".py",
   "mimetype": "text/x-python",
   "name": "python",
   "nbconvert_exporter": "python",
   "pygments_lexer": "ipython3",
   "version": "3.6.9"
  }
 },
 "nbformat": 4,
 "nbformat_minor": 2
}
