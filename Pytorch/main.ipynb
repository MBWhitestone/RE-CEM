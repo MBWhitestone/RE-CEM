{
 "cells": [
  {
   "cell_type": "code",
   "execution_count": 1,
   "metadata": {},
   "outputs": [],
   "source": [
    "## main.py -- sample code to test attack procedure\n",
    "##\n",
    "## Copyright (C) 2018, IBM Corp\n",
    "##                     Chun-Chen Tu <timtu@umich.edu>\n",
    "##                     PaiShun Ting <paishun@umich.edu>\n",
    "##                     Pin-Yu Chen <Pin-Yu.Chen@ibm.com>\n",
    "##\n",
    "## Licensed under the Apache License, Version 2.0 (the \"License\");\n",
    "## you may not use this file except in compliance with the License.\n",
    "## You may obtain a copy of the License at\n",
    "##\n",
    "##     http://www.apache.org/licenses/LICENSE-2.0\n",
    "##\n",
    "## Unless required by applicable law or agreed to in writing, software\n",
    "## distributed under the License is distributed on an \"AS IS\" BASIS,\n",
    "## WITHOUT WARRANTIES OR CONDITIONS OF ANY KIND, either express or implied.\n",
    "## See the License for the specific language governing permissions and\n",
    "## limitations under the License.\n",
    "\n",
    "import os\n",
    "import sys\n",
    "#import tensorflow as tf\n",
    "import numpy as np\n",
    "import random\n",
    "import time\n",
    "#from tensorflow.keras.layers import Lambda\n",
    "from setup_mnist import MNIST, MNISTModel\n",
    "import torch\n",
    "\n",
    "import utils as util\n",
    "# from aen_CEM import AEADEN\n"
   ]
  },
  {
   "cell_type": "code",
   "execution_count": 2,
   "metadata": {},
   "outputs": [],
   "source": [
    "def main(image_id, arg_max_iter=1000, arg_b=9, arg_init_const=10.0, arg_mode=\"PN\", arg_kappa=0, arg_beta=1e-1, arg_gamma=0):\n",
    "    #with tf.Session() as sess:\n",
    "    random.seed(121)\n",
    "    np.random.seed(1211)\n",
    "    \n",
    "    #Load autoencoder and MNIST dataset\n",
    "    AE_model = util.load_AE(\"mnist_AE_weights\")\n",
    "    data, model =  MNIST(), MNISTModel(torch.load('models/mnist.pt'))\n",
    "    inp = data.test_data[image_id].unsqueeze(0)\n",
    "    print(inp.shape)\n",
    "    \n",
    "    orig_prob, orig_class, orig_prob_str = util.model_prediction(model, data.test_data[image_id].unsqueeze(0))\n",
    "    target_label = orig_class\n",
    "    print(\"Image:{}, infer label:{}\".format(image_id, target_label))\n",
    "    orig_img, target = util.generate_data(data, image_id, target_label)\n",
    "    \n",
    "    #create adversarial image from original image\n",
    "    attack = AEADEN(model, mode = arg_mode, AE = AE_model, batch_size=1, kappa=arg_kappa, init_learning_rate=1e-2,\n",
    "        binary_search_steps=arg_b, max_iterations=arg_max_iter, initial_const=arg_init_const, beta=arg_beta, gamma=arg_gamma)\n",
    "\n",
    "    adv_img = attack.attack(orig_img, target)\n",
    "    \n",
    "    #calculate probability classes for adversarial and delta image \n",
    "    adv_prob, adv_class, adv_prob_str = util.model_prediction(model, adv_img)\n",
    "    delta_prob, delta_class, delta_prob_str = util.model_prediction(model, orig_img-adv_img)\n",
    "    \n",
    "    INFO = \"[INFO]id:{}, kappa:{}, Orig class:{}, Adv class:{}, Delta class: {}, Orig prob:{}, Adv prob:{}, Delta prob:{}\".format(image_id, arg_kappa, orig_class, adv_class, delta_class, orig_prob_str, adv_prob_str, delta_prob_str)\n",
    "    print(INFO)\n",
    "    \n",
    "    \n",
    "    #Save image to Results\n",
    "    suffix = \"id{}_kappa{}_Orig{}_Adv{}_Delta{}\".format(image_id, arg_kappa, orig_class, adv_class, delta_class)\n",
    "    arg_save_dir = \"{}_ID{}_Gamma_{}\".format(arg_mode, image_id, arg_gamma)\n",
    "    os.system(\"mkdir -p Results/{}\".format(arg_save_dir))\n",
    "    util.save_img(orig_img, \"Results/{}/Orig_original{}.png\".format(arg_save_dir, orig_class))\n",
    "    util.save_img(adv_img, \"Results/{}/Adv_{}.png\".format(arg_save_dir, suffix))\n",
    "    util.save_img(np.absolute(orig_img-adv_img)-0.5, \"Results/{}/Delta_{}.png\".format(arg_save_dir, suffix))\n",
    "\n",
    "    sys.stdout.flush()"
   ]
  },
  {
   "cell_type": "code",
   "execution_count": 3,
   "metadata": {},
   "outputs": [
    {
     "name": "stdout",
     "output_type": "stream",
     "text": [
      "torch.Size([1, 28, 28, 1])\n",
      "Image:2950, infer label:tensor([5])\n"
     ]
    },
    {
     "ename": "NameError",
     "evalue": "name 'AEADEN' is not defined",
     "output_type": "error",
     "traceback": [
      "\u001b[0;31m---------------------------------------------------------------------------\u001b[0m",
      "\u001b[0;31mNameError\u001b[0m                                 Traceback (most recent call last)",
      "\u001b[0;32m<ipython-input-3-3b6e477bf851>\u001b[0m in \u001b[0;36m<module>\u001b[0;34m\u001b[0m\n\u001b[0;32m----> 1\u001b[0;31m \u001b[0mmain\u001b[0m\u001b[0;34m(\u001b[0m\u001b[0mimage_id\u001b[0m\u001b[0;34m=\u001b[0m\u001b[0;36m2950\u001b[0m\u001b[0;34m)\u001b[0m\u001b[0;34m\u001b[0m\u001b[0;34m\u001b[0m\u001b[0m\n\u001b[0m",
      "\u001b[0;32m<ipython-input-2-4e937d0911bc>\u001b[0m in \u001b[0;36mmain\u001b[0;34m(image_id, arg_max_iter, arg_b, arg_init_const, arg_mode, arg_kappa, arg_beta, arg_gamma)\u001b[0m\n\u001b[1;32m     16\u001b[0m \u001b[0;34m\u001b[0m\u001b[0m\n\u001b[1;32m     17\u001b[0m     \u001b[0;31m#create adversarial image from original image\u001b[0m\u001b[0;34m\u001b[0m\u001b[0;34m\u001b[0m\u001b[0;34m\u001b[0m\u001b[0m\n\u001b[0;32m---> 18\u001b[0;31m     attack = AEADEN(model, mode = arg_mode, AE = AE_model, batch_size=1, kappa=arg_kappa, init_learning_rate=1e-2,\n\u001b[0m\u001b[1;32m     19\u001b[0m         binary_search_steps=arg_b, max_iterations=arg_max_iter, initial_const=arg_init_const, beta=arg_beta, gamma=arg_gamma)\n\u001b[1;32m     20\u001b[0m \u001b[0;34m\u001b[0m\u001b[0m\n",
      "\u001b[0;31mNameError\u001b[0m: name 'AEADEN' is not defined"
     ]
    }
   ],
   "source": [
    "main(image_id=2950)"
   ]
  },
  {
   "cell_type": "code",
   "execution_count": null,
   "metadata": {},
   "outputs": [],
   "source": []
  }
 ],
 "metadata": {
  "kernelspec": {
   "display_name": "Python 3",
   "language": "python",
   "name": "python3"
  },
  "language_info": {
   "codemirror_mode": {
    "name": "ipython",
    "version": 3
   },
   "file_extension": ".py",
   "mimetype": "text/x-python",
   "name": "python",
   "nbconvert_exporter": "python",
   "pygments_lexer": "ipython3",
   "version": "3.6.9"
  }
 },
 "nbformat": 4,
 "nbformat_minor": 2
}
