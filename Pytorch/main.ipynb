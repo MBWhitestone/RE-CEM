{
 "cells": [
  {
   "cell_type": "code",
   "execution_count": 3,
   "metadata": {},
   "outputs": [
    {
     "ename": "ModuleNotFoundError",
     "evalue": "No module named 'Utils'",
     "output_type": "error",
     "traceback": [
      "\u001b[0;31m---------------------------------------------------------------------------\u001b[0m",
      "\u001b[0;31mModuleNotFoundError\u001b[0m                       Traceback (most recent call last)",
      "\u001b[0;32m<ipython-input-3-b3f4048fb26d>\u001b[0m in \u001b[0;36m<module>\u001b[0;34m\u001b[0m\n\u001b[1;32m     27\u001b[0m \u001b[0;32mfrom\u001b[0m \u001b[0msetup_mnist\u001b[0m \u001b[0;32mimport\u001b[0m \u001b[0mMNIST\u001b[0m\u001b[0;34m,\u001b[0m \u001b[0mMNISTModel\u001b[0m\u001b[0;34m\u001b[0m\u001b[0;34m\u001b[0m\u001b[0m\n\u001b[1;32m     28\u001b[0m \u001b[0;34m\u001b[0m\u001b[0m\n\u001b[0;32m---> 29\u001b[0;31m \u001b[0;32mimport\u001b[0m \u001b[0mUtils\u001b[0m\u001b[0;34m.\u001b[0m\u001b[0mpy\u001b[0m \u001b[0;32mas\u001b[0m \u001b[0mutil\u001b[0m\u001b[0;34m\u001b[0m\u001b[0;34m\u001b[0m\u001b[0m\n\u001b[0m\u001b[1;32m     30\u001b[0m \u001b[0;32mfrom\u001b[0m \u001b[0maen_CEM\u001b[0m \u001b[0;32mimport\u001b[0m \u001b[0mAEADEN\u001b[0m\u001b[0;34m\u001b[0m\u001b[0;34m\u001b[0m\u001b[0m\n",
      "\u001b[0;31mModuleNotFoundError\u001b[0m: No module named 'Utils'"
     ]
    }
   ],
   "source": [
    "## main.py -- sample code to test attack procedure\n",
    "##\n",
    "## Copyright (C) 2018, IBM Corp\n",
    "##                     Chun-Chen Tu <timtu@umich.edu>\n",
    "##                     PaiShun Ting <paishun@umich.edu>\n",
    "##                     Pin-Yu Chen <Pin-Yu.Chen@ibm.com>\n",
    "##\n",
    "## Licensed under the Apache License, Version 2.0 (the \"License\");\n",
    "## you may not use this file except in compliance with the License.\n",
    "## You may obtain a copy of the License at\n",
    "##\n",
    "##     http://www.apache.org/licenses/LICENSE-2.0\n",
    "##\n",
    "## Unless required by applicable law or agreed to in writing, software\n",
    "## distributed under the License is distributed on an \"AS IS\" BASIS,\n",
    "## WITHOUT WARRANTIES OR CONDITIONS OF ANY KIND, either express or implied.\n",
    "## See the License for the specific language governing permissions and\n",
    "## limitations under the License.\n",
    "\n",
    "import os\n",
    "import sys\n",
    "#import tensorflow as tf\n",
    "import numpy as np\n",
    "import random\n",
    "import time\n",
    "#from tensorflow.keras.layers import Lambda\n",
    "from setup_mnist import MNIST, MNISTModel\n",
    "\n",
    "import Utils.py as util\n",
    "from aen_CEM import AEADEN\n"
   ]
  },
  {
   "cell_type": "code",
   "execution_count": 4,
   "metadata": {},
   "outputs": [],
   "source": [
    "def main(image_id, arg_max_iter=1000, arg_b=9, arg_init_const=10.0, arg_mode=\"PN\", arg_kappa=0, arg_beta=1e-1, arg_gamma=0):\n",
    "    #with tf.Session() as sess:\n",
    "    random.seed(121)\n",
    "    np.random.seed(1211)\n",
    "    \n",
    "    #Load autoencoder and MNIST dataset\n",
    "    AE_model = util.load_AE(\"mnist_AE_1\")\n",
    "    data, model =  MNIST(), MNISTModel(\"models/mnist\")\n",
    "    model.load_state_dict(torch.load('models/weights.pt'))\n",
    "    \n",
    "    #Get image from the dataset\n",
    "    orig_prob, orig_class, orig_prob_str = util.model_prediction(model, np.expand_dims(data.test_data[image_id], axis=0))\n",
    "    target_label = orig_class\n",
    "    print(\"Image:{}, infer label:{}\".format(image_id, target_label))\n",
    "    orig_img, target = util.generate_data(data, image_id, target_label)\n",
    "    \n",
    "    #create adversarial image from original image\n",
    "    attack = AEADEN(model, mode = arg_mode, AE = AE_model, batch_size=1, kappa=arg_kappa, init_learning_rate=1e-2,\n",
    "        binary_search_steps=arg_b, max_iterations=arg_max_iter, initial_const=arg_init_const, beta=arg_beta, gamma=arg_gamma)\n",
    "\n",
    "    adv_img = attack.attack(orig_img, target)\n",
    "    \n",
    "    #calculate probability classes for adversarial and delta image \n",
    "    adv_prob, adv_class, adv_prob_str = util.model_prediction(model, adv_img)\n",
    "    delta_prob, delta_class, delta_prob_str = util.model_prediction(model, orig_img-adv_img)\n",
    "    \n",
    "    INFO = \"[INFO]id:{}, kappa:{}, Orig class:{}, Adv class:{}, Delta class: {}, Orig prob:{}, Adv prob:{}, Delta prob:{}\".format(image_id, arg_kappa, orig_class, adv_class, delta_class, orig_prob_str, adv_prob_str, delta_prob_str)\n",
    "    print(INFO)\n",
    "    \n",
    "    \n",
    "    #Save image to Results\n",
    "    suffix = \"id{}_kappa{}_Orig{}_Adv{}_Delta{}\".format(image_id, arg_kappa, orig_class, adv_class, delta_class)\n",
    "    arg_save_dir = \"{}_ID{}_Gamma_{}\".format(arg_mode, image_id, arg_gamma)\n",
    "    os.system(\"mkdir -p Results/{}\".format(arg_save_dir))\n",
    "    util.save_img(orig_img, \"Results/{}/Orig_original{}.png\".format(arg_save_dir, orig_class))\n",
    "    util.save_img(adv_img, \"Results/{}/Adv_{}.png\".format(arg_save_dir, suffix))\n",
    "    util.save_img(np.absolute(orig_img-adv_img)-0.5, \"Results/{}/Delta_{}.png\".format(arg_save_dir, suffix))\n",
    "\n",
    "    sys.stdout.flush()"
   ]
  },
  {
   "cell_type": "code",
   "execution_count": null,
   "metadata": {},
   "outputs": [],
   "source": [
    "main(image_id=2950)"
   ]
  }
 ],
 "metadata": {
  "kernelspec": {
   "display_name": "Python 3",
   "language": "python",
   "name": "python3"
  },
  "language_info": {
   "codemirror_mode": {
    "name": "ipython",
    "version": 3
   },
   "file_extension": ".py",
   "mimetype": "text/x-python",
   "name": "python",
   "nbconvert_exporter": "python",
   "pygments_lexer": "ipython3",
   "version": "3.7.3"
  }
 },
 "nbformat": 4,
 "nbformat_minor": 2
}
