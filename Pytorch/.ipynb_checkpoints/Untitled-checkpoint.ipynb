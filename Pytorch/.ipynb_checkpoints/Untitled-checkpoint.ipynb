{
 "cells": [
  {
   "cell_type": "code",
   "execution_count": 34,
   "metadata": {},
   "outputs": [],
   "source": [
    "import h5py\n",
    "filename = '../Original_Code/models/AE_codec/mnist_AE_1_decoder.h5'\n",
    "\n",
    "def find(name):\n",
    "    print(type(name))\n",
    "#     return name"
   ]
  },
  {
   "cell_type": "code",
   "execution_count": 37,
   "metadata": {},
   "outputs": [
    {
     "name": "stdout",
     "output_type": "stream",
     "text": [
      "Keys: <KeysViewHDF5 ['activation_3', 'activation_4', 'conv2d_4', 'conv2d_5', 'conv2d_6', 'sequential_1', 'up_sampling2d_1']>\n",
      "<class 'str'>\n",
      "activation_3\n"
     ]
    }
   ],
   "source": [
    "with h5py.File(filename, 'r') as f:\n",
    "    # List all groups\n",
    "    print(\"Keys: %s\" % f.keys())\n",
    "#     a_group_key = list(f.keys())[0]\n",
    "\n",
    "    datadict = {}\n",
    "\n",
    "    q = f.visit(find)\n",
    "    print(q)\n",
    "#     for key in f.keys():\n",
    "#         datadict[key] = f[key].items()\n",
    "#         items = f[key].items()\n",
    "#         print()\n",
    "#         print(key)\n",
    "#         if len(f[key]):\n",
    "#             for i in f[key].items():\n",
    "#                 for j in i:\n",
    "#                     print(j)\n",
    "\n",
    "    \n",
    "    # Get the data\n",
    "#     data = list(f[a_group_key])"
   ]
  },
  {
   "cell_type": "code",
   "execution_count": null,
   "metadata": {},
   "outputs": [],
   "source": []
  },
  {
   "cell_type": "code",
   "execution_count": 19,
   "metadata": {},
   "outputs": [
    {
     "data": {
      "text/plain": [
       "ItemsViewHDF5(<Closed HDF5 group>)"
      ]
     },
     "execution_count": 19,
     "metadata": {},
     "output_type": "execute_result"
    }
   ],
   "source": [
    "datadict['activation_3']"
   ]
  },
  {
   "cell_type": "code",
   "execution_count": null,
   "metadata": {},
   "outputs": [],
   "source": []
  }
 ],
 "metadata": {
  "kernelspec": {
   "display_name": "Python 3",
   "language": "python",
   "name": "python3"
  },
  "language_info": {
   "codemirror_mode": {
    "name": "ipython",
    "version": 3
   },
   "file_extension": ".py",
   "mimetype": "text/x-python",
   "name": "python",
   "nbconvert_exporter": "python",
   "pygments_lexer": "ipython3",
   "version": "3.6.9"
  }
 },
 "nbformat": 4,
 "nbformat_minor": 2
}
